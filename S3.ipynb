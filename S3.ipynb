{
  "nbformat": 4,
  "nbformat_minor": 0,
  "metadata": {
    "colab": {
      "name": "S3.ipynb",
      "provenance": [],
      "collapsed_sections": []
    },
    "kernelspec": {
      "name": "python3",
      "display_name": "Python 3"
    }
  },
  "cells": [
    {
      "cell_type": "markdown",
      "metadata": {
        "id": "FI3D41b0cIgl"
      },
      "source": [
        "1) Write a function using only list filter lambda that can tell whether a number is a Fibonacci number or not. You can use a pre-calculated list/dict to store fab numbers till 10000"
      ]
    },
    {
      "cell_type": "code",
      "metadata": {
        "id": "Sh0douU6WnYe",
        "outputId": "62f3235c-0dc0-43b8-dcf0-7b9590650e25",
        "colab": {
          "base_uri": "https://localhost:8080/"
        }
      },
      "source": [
        "# Generating fibonacci number till 10000\n",
        "fibonacci_numbers = [0, 1]\n",
        "for i in range(2,10000):\n",
        "    fibonacci_numbers.append(fibonacci_numbers[i-1]+fibonacci_numbers[i-2])\n",
        "\n",
        "fib_or_not = lambda n: n in fibonacci_numbers\n",
        "\n",
        "fib_or_not(5)"
      ],
      "execution_count": 27,
      "outputs": [
        {
          "output_type": "execute_result",
          "data": {
            "text/plain": [
              "True"
            ]
          },
          "metadata": {
            "tags": []
          },
          "execution_count": 27
        }
      ]
    },
    {
      "cell_type": "markdown",
      "metadata": {
        "id": "H-Vtzuhumekw"
      },
      "source": [
        "2)  Using list comprehension (and zip/lambda/etc if required) write five different expressions that: PTS:100\n",
        "\n",
        "    add 2 iterables a and b such that a is even and b is odd\n",
        "    strips every vowel from a string provided (tsai>>t s)\n",
        "    acts like a ReLU function for a 1D array\n",
        "    acts like a sigmoid function for a 1D array\n",
        "    takes a small character string and shifts all characters by 5 (handle boundary conditions) tsai>>yxfn\n",
        "\n"
      ]
    },
    {
      "cell_type": "code",
      "metadata": {
        "id": "fOPwbds6miPL",
        "outputId": "cf1e4ac5-b716-4ac2-fe42-6707616c63f4",
        "colab": {
          "base_uri": "https://localhost:8080/"
        }
      },
      "source": [
        "# 2 iterables a and b such that a is even and b is odd\n",
        "a = [x for x in range(10) if x % 2 == 0]\n",
        "print('even list')\n",
        "print (a) \n",
        "\n",
        "\n",
        "b = [y for y in range(10) if y % 2 != 0]\n",
        "print('odd list')\n",
        "print (b) \n",
        "print('\\n')\n",
        "\n",
        " \n",
        "# strips every vowel from a string provided (tsai>>t s)\n",
        "vowels = ['a', 'e', 'i', 'o', 'u']\n",
        "txt_str = 'ifrhiawlehfaksyfjfpawheuwf'\n",
        "print('sample string')\n",
        "print(txt_str)\n",
        "txt_list = list(txt_str.lower())\n",
        "#print(txt_list)\n",
        "\n",
        "for char in txt_list:\n",
        "  if char in vowels:\n",
        "    txt_list.remove(char)\n",
        "\n",
        "str_no_vowel = ''\n",
        "print('no vowel string')\n",
        "print(str_no_vowel.join(txt_list))\n",
        "\n",
        "print('\\n')\n",
        "# acts like a ReLU function for a 1D array\n",
        "import random\n",
        "\n",
        "randomlist = []\n",
        "\n",
        "for i in range(0,20):\n",
        "  n = random.randint(-14,30)\n",
        "  randomlist.append(n)\n",
        "print(\"normal list:\")\n",
        "print(randomlist)\n",
        "\n",
        "for num in randomlist:\n",
        "  if num < 0:\n",
        "    idx = randomlist.index(num)\n",
        "    randomlist[idx] = 0\n",
        "print(\"ReLu list:\")\n",
        "print (randomlist)\n",
        "\n",
        "# acts like a sigmoid function for a 1D array\n",
        "import math\n",
        "sig_list = []\n",
        "for num in randomlist:\n",
        "  sig_list.append(1/(1 + math.exp(-num)))\n",
        "print('sigmoid list:')\n",
        "print(sig_list) \n",
        "print('\\n')\n",
        "# takes a small character string and shifts all characters by 5 (handle boundary conditions) tsai>>yxfn\n",
        "shifted_str_list = []\n",
        "for char in txt_str:\n",
        "  if ord(char) < (ord('z') - 5):\n",
        "    shifted_str_list.append(chr(ord(char) + 5))\n",
        "  else:\n",
        "    shifted_str_list.append('z')\n",
        "print('normal string:')\n",
        "print(txt_str)\n",
        "print('shifted string:')\n",
        "shifted_str = ''\n",
        "print(shifted_str.join(shifted_str_list))"
      ],
      "execution_count": 51,
      "outputs": [
        {
          "output_type": "stream",
          "text": [
            "even list\n",
            "[0, 2, 4, 6, 8]\n",
            "odd list\n",
            "[1, 3, 5, 7, 9]\n",
            "\n",
            "\n",
            "sample string\n",
            "ifrhiawlehfaksyfjfpawheuwf\n",
            "no vowel string\n",
            "frhwlhfksyfjfpawhuwf\n",
            "\n",
            "\n",
            "normal list:\n",
            "[11, 14, 24, 8, -14, 0, 30, -8, 18, 24, -6, 13, 23, -11, -1, 28, -11, 23, 9, 16]\n",
            "ReLu list:\n",
            "[11, 14, 24, 8, 0, 0, 30, 0, 18, 24, 0, 13, 23, 0, 0, 28, 0, 23, 9, 16]\n",
            "sigmoid list:\n",
            "[0.999983298578152, 0.9999991684719722, 0.9999999999622486, 0.9996646498695336, 0.5, 0.5, 0.9999999999999065, 0.5, 0.9999999847700205, 0.9999999999622486, 0.5, 0.999997739675702, 0.9999999998973812, 0.5, 0.5, 0.9999999999993086, 0.5, 0.9999999998973812, 0.9998766054240137, 0.9999998874648379]\n",
            "\n",
            "\n",
            "normal string:\n",
            "ifrhiawlehfaksyfjfpawheuwf\n",
            "shifted string:\n",
            "nkwmnfzqjmkfpxzkokufzmjzzk\n"
          ],
          "name": "stdout"
        }
      ]
    },
    {
      "cell_type": "markdown",
      "metadata": {
        "id": "Xb3GDU_4gyVL"
      },
      "source": [
        "3) A list comprehension expression that takes a ~200 word paragraph (write your own paragraph to check), and checks whether it has any of the swear words mentioned in https://github.com/RobertJGabriel/Google-profanity-words/blob/master/list.txt"
      ]
    },
    {
      "cell_type": "code",
      "metadata": {
        "id": "DP6odM_YWwOh",
        "outputId": "d8da10ff-8ec3-4f76-a21b-a38395f92f0a",
        "colab": {
          "base_uri": "https://localhost:8080/"
        }
      },
      "source": [
        "import requests\n",
        "\n",
        "my_para = ''' It’s a sizable assholes fraction of the words we use. On average, one tweet out of 13 tweets will contain at least one cursing word,” says Wenbo Wang, a PhD researcher at Wright State University who led the study. “Because of social media, people don’t see each other. They can say things they wouldn’t say in the physical world.” Other studies have found that 0.5 to 0.7% of words we say in the physical world are curses–on Twitter, the researchers found the rate to be 1.15%. Or as the paper reads, and as Wang was too polite to repeat during our phone interview The most popular curse word is fuck, which covers 34.73% of all the curse word occurrences, followed by shit, ass, bitch, nigga , hell, whore, dick, piss, and pussy. Apart from counting words and characters, our online editor can help you to improve word choice and writing style, and, optionally, help you to detect grammar mistakes and plagiarism. To check word count, simply place your cursor into the text box above and start typing. You'll see the number of characters and words increase or decrease as you type, delete, and edit them. You can also copy and paste text from another program over into the online editor above. '''\n",
        "\n",
        "url = 'https://raw.githubusercontent.com/RobertJGabriel/Google-profanity-words/master/list.txt'\n",
        "page = requests.get(url)\n",
        "#print(page.text)\n",
        "\n",
        "swear_words = page.text.split()\n",
        "#print(swear_words)\n",
        "\n",
        "my_para_words = my_para.split()\n",
        "\n",
        "for words in my_para_words:\n",
        "  if words in swear_words:\n",
        "    print(words)"
      ],
      "execution_count": 46,
      "outputs": [
        {
          "output_type": "stream",
          "text": [
            "assholes\n",
            "nigga\n"
          ],
          "name": "stdout"
        }
      ]
    },
    {
      "cell_type": "markdown",
      "metadata": {
        "id": "sp4EOPf0t4XY"
      },
      "source": [
        "4)  Using reduce functions:\n",
        "    a) add only even numbers in a list\n",
        "  \n",
        "\n"
      ]
    },
    {
      "cell_type": "code",
      "metadata": {
        "id": "Eq_svhYKuFz0",
        "outputId": "af0d387e-1a34-4043-f9f1-80b14707db45",
        "colab": {
          "base_uri": "https://localhost:8080/"
        }
      },
      "source": [
        "from functools import reduce\n",
        "\n",
        "num_list = list(range(10))\n",
        "print(num_list)\n",
        "\n",
        "def add_even_num(num1, num2):\n",
        "  if num1 % 2 == 0:\n",
        "    num_even1 = num1\n",
        "  else:\n",
        "    num_even1 = 0\n",
        "\n",
        "  if num2 % 2 == 0:\n",
        "    num_even2 = num2\n",
        "  else:\n",
        "    num_even2 = 0\n",
        "\n",
        "  return num_even1 + num_even2\n",
        "\n",
        "result_a = reduce(add_even_num, num_list)\n",
        "print(result_a)"
      ],
      "execution_count": 64,
      "outputs": [
        {
          "output_type": "stream",
          "text": [
            "[0, 1, 2, 3, 4, 5, 6, 7, 8, 9]\n",
            "20\n"
          ],
          "name": "stdout"
        }
      ]
    },
    {
      "cell_type": "markdown",
      "metadata": {
        "id": "JH-nOSlM2Iq4"
      },
      "source": [
        "4-b) find the biggest character in a string (printable ascii characters)"
      ]
    },
    {
      "cell_type": "code",
      "metadata": {
        "id": "9VtjKMp42IIw",
        "outputId": "499ec6fa-2c18-4ef7-a3f1-117e2de84997",
        "colab": {
          "base_uri": "https://localhost:8080/"
        }
      },
      "source": [
        "samp_string = 'ifrhiawlehfaksyfjfpawheuwf'\n",
        "samp_list = []\n",
        "for chars in samp_string:\n",
        "  samp_list.append(chars)\n",
        "print(samp_list)\n",
        "\n",
        "def big_char(char1, char2):\n",
        "  return char1 if char1 > char2 else char2\n",
        "\n",
        "result_b = reduce(big_char, samp_list)\n",
        "print(result_b)"
      ],
      "execution_count": 62,
      "outputs": [
        {
          "output_type": "stream",
          "text": [
            "['i', 'f', 'r', 'h', 'i', 'a', 'w', 'l', 'e', 'h', 'f', 'a', 'k', 's', 'y', 'f', 'j', 'f', 'p', 'a', 'w', 'h', 'e', 'u', 'w', 'f']\n",
            "y\n"
          ],
          "name": "stdout"
        }
      ]
    },
    {
      "cell_type": "markdown",
      "metadata": {
        "id": "ysHSVs8p3iGO"
      },
      "source": [
        "4-c) adds every 3rd number in a list"
      ]
    },
    {
      "cell_type": "code",
      "metadata": {
        "id": "1gGu1FNW3kmN",
        "outputId": "c4af50af-9d06-4922-c476-36dabca5ceee",
        "colab": {
          "base_uri": "https://localhost:8080/"
        }
      },
      "source": [
        "from functools import reduce\n",
        "\n",
        "num_list = list(range(10))\n",
        "print(num_list)\n",
        "\n",
        "def add_third_num(num1, num2):\n",
        "  if num1 % 3 == 0:\n",
        "    num_even1 = num1\n",
        "  else:\n",
        "    num_even1 = 0\n",
        "\n",
        "  if num2 % 3 == 0:\n",
        "    num_even2 = num2\n",
        "  else:\n",
        "    num_even2 = 0\n",
        "\n",
        "  return num_even1 + num_even2\n",
        "\n",
        "result_c = reduce(add_third_num, num_list)\n",
        "print(result_c)"
      ],
      "execution_count": 68,
      "outputs": [
        {
          "output_type": "stream",
          "text": [
            "[0, 1, 2, 3, 4, 5, 6, 7, 8, 9]\n",
            "18\n"
          ],
          "name": "stdout"
        }
      ]
    },
    {
      "cell_type": "markdown",
      "metadata": {
        "id": "-zgpVYV68QPk"
      },
      "source": [
        "5) Using randint, random.choice and list comprehensions, write an expression that generates 15 random KADDAADDDD number plates, where KA is fixed, D stands for a digit, and A stands for Capital alphabets. 10<<DD<<99 & 1000<<DDDD<<9999"
      ]
    },
    {
      "cell_type": "code",
      "metadata": {
        "id": "gCRSy_sU8Oa0",
        "outputId": "c60f1638-e78a-4ea1-e6dd-81fd6a357271",
        "colab": {
          "base_uri": "https://localhost:8080/"
        }
      },
      "source": [
        "import random\n",
        "\n",
        "alphabet_list = ['A', 'B', 'C', 'D', 'E', 'F', 'G', 'H', 'I', 'J', 'K', 'L', 'M', 'N', 'O', 'P', 'Q', 'R', 'S', 'T', 'U', 'V', 'W', 'X', 'Y', 'Z']\n",
        "\n",
        "\n",
        "for i in range(15):\n",
        "  DDDD = random.randrange(1000, 9999)\n",
        "  DD = random.randrange(10,99)\n",
        "  AA1 = random.choice(alphabet_list)\n",
        "  AA2 = random.choice(alphabet_list)\n",
        "  num_plate = 'KA' + str(DD) + str(AA1) + str(AA2) + str(DDDD)\n",
        "  print(num_plate)"
      ],
      "execution_count": 76,
      "outputs": [
        {
          "output_type": "stream",
          "text": [
            "KA84AI3995\n",
            "KA95HA2959\n",
            "KA89SX9233\n",
            "KA30QK5968\n",
            "KA27KD1526\n",
            "KA23RY9297\n",
            "KA25ZK6859\n",
            "KA41FB8065\n",
            "KA52GH6735\n",
            "KA55RC1895\n",
            "KA12YD9333\n",
            "KA55GV5379\n",
            "KA31EF1586\n",
            "KA35UM9801\n",
            "KA47LR5174\n"
          ],
          "name": "stdout"
        }
      ]
    },
    {
      "cell_type": "markdown",
      "metadata": {
        "id": "gPAuuv-KEWsF"
      },
      "source": [
        "6) Write the above again from scratch where KA can be changed to DL, and 1000/9999 ranges can be provided."
      ]
    },
    {
      "cell_type": "code",
      "metadata": {
        "id": "l0_8jh9OEYmH",
        "outputId": "535c68a3-362e-4f5b-fa37-06342268fba1",
        "colab": {
          "base_uri": "https://localhost:8080/"
        }
      },
      "source": [
        "import random\n",
        "\n",
        "alphabet_list = ['A', 'B', 'C', 'D', 'E', 'F', 'G', 'H', 'I', 'J', 'K', 'L', 'M', 'N', 'O', 'P', 'Q', 'R', 'S', 'T', 'U', 'V', 'W', 'X', 'Y', 'Z']\n",
        "\n",
        "inp = \"\"\n",
        "while inp != \"KA\" and inp != \"DL\":\n",
        "    inp = input(\"Enter KA or DL: \")\n",
        "    if inp != \"KA\" and inp != \"DL\":\n",
        "        print(\"You must type KA or DL\")\n",
        "\n",
        "inp_range_low = 0\n",
        "while inp_range_low < 1000 or inp_range_low > 10000:\n",
        "    inp_range_low = int(input(\"Enter lower range of number DDDD\"))\n",
        "    if inp_range_low < 1000 and inp_range_low > 10000:\n",
        "      print('Enter a number between 1000 and 10000')\n",
        "  \n",
        "inp_range_high = 0\n",
        "#print(inp_range_low)\n",
        "while inp_range_high < 1000 or inp_range_high > 10000 or inp_range_high < inp_range_low:\n",
        "    inp_range_high = int(input(\"Enter higher range of number DDDD:\"))\n",
        "    if inp_range_high < 1000 and inp_range_high > 10000:\n",
        "      print('Enter a number between 1000 and 10000')\n",
        "    #print(inp_range_high)\n",
        "    if inp_range_high < inp_range_low:\n",
        "      print('Enter a number higher than the lower limit of range:')\n",
        "\n",
        "\n",
        "for i in range(15):\n",
        "  DDDD = random.randrange(inp_range_low, inp_range_high)\n",
        "  DD = random.randrange(10,99)\n",
        "  AA1 = random.choice(alphabet_list)\n",
        "  AA2 = random.choice(alphabet_list)\n",
        "  num_plate = inp + str(DD) + str(AA1) + str(AA2) + str(DDDD)\n",
        "  print(num_plate)"
      ],
      "execution_count": 99,
      "outputs": [
        {
          "output_type": "stream",
          "text": [
            "Enter KA or DL: DL\n",
            "Enter lower range of number DDDD1247\n",
            "Enter higher range of number DDDD:1257\n",
            "DL18AK1249\n",
            "DL49CN1256\n",
            "DL20BB1249\n",
            "DL76YU1256\n",
            "DL63RW1250\n",
            "DL96FL1247\n",
            "DL16WR1253\n",
            "DL83RM1251\n",
            "DL20ZS1253\n",
            "DL26BQ1253\n",
            "DL22IO1248\n",
            "DL36GW1255\n",
            "DL23NI1248\n",
            "DL66YG1255\n",
            "DL37JX1251\n"
          ],
          "name": "stdout"
        }
      ]
    },
    {
      "cell_type": "code",
      "metadata": {
        "id": "UxC5TMthFqsh"
      },
      "source": [
        ""
      ],
      "execution_count": null,
      "outputs": []
    }
  ]
}