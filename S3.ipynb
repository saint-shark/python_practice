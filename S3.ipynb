{
  "nbformat": 4,
  "nbformat_minor": 0,
  "metadata": {
    "colab": {
      "name": "S3.ipynb",
      "provenance": [],
      "collapsed_sections": []
    },
    "kernelspec": {
      "name": "python3",
      "display_name": "Python 3"
    }
  },
  "cells": [
    {
      "cell_type": "markdown",
      "metadata": {
        "id": "FI3D41b0cIgl"
      },
      "source": [
        "1) Write a function using only list filter lambda that can tell whether a number is a Fibonacci number or not. You can use a pre-calculated list/dict to store fab numbers till 10000"
      ]
    },
    {
      "cell_type": "code",
      "metadata": {
        "id": "Sh0douU6WnYe",
        "outputId": "62f3235c-0dc0-43b8-dcf0-7b9590650e25",
        "colab": {
          "base_uri": "https://localhost:8080/"
        }
      },
      "source": [
        "# Generating fibonacci number till 10000\n",
        "fibonacci_numbers = [0, 1]\n",
        "for i in range(2,10000):\n",
        "    fibonacci_numbers.append(fibonacci_numbers[i-1]+fibonacci_numbers[i-2])\n",
        "\n",
        "fib_or_not = lambda n: n in fibonacci_numbers\n",
        "\n",
        "fib_or_not(5)"
      ],
      "execution_count": 27,
      "outputs": [
        {
          "output_type": "execute_result",
          "data": {
            "text/plain": [
              "True"
            ]
          },
          "metadata": {
            "tags": []
          },
          "execution_count": 27
        }
      ]
    },
    {
      "cell_type": "markdown",
      "metadata": {
        "id": "Xb3GDU_4gyVL"
      },
      "source": [
        "3) A list comprehension expression that takes a ~200 word paragraph (write your own paragraph to check), and checks whether it has any of the swear words mentioned in https://github.com/RobertJGabriel/Google-profanity-words/blob/master/list.txt"
      ]
    },
    {
      "cell_type": "code",
      "metadata": {
        "id": "DP6odM_YWwOh",
        "outputId": "d8da10ff-8ec3-4f76-a21b-a38395f92f0a",
        "colab": {
          "base_uri": "https://localhost:8080/"
        }
      },
      "source": [
        "import requests\n",
        "\n",
        "my_para = ''' It’s a sizable assholes fraction of the words we use. On average, one tweet out of 13 tweets will contain at least one cursing word,” says Wenbo Wang, a PhD researcher at Wright State University who led the study. “Because of social media, people don’t see each other. They can say things they wouldn’t say in the physical world.” Other studies have found that 0.5 to 0.7% of words we say in the physical world are curses–on Twitter, the researchers found the rate to be 1.15%. Or as the paper reads, and as Wang was too polite to repeat during our phone interview The most popular curse word is fuck, which covers 34.73% of all the curse word occurrences, followed by shit, ass, bitch, nigga , hell, whore, dick, piss, and pussy. Apart from counting words and characters, our online editor can help you to improve word choice and writing style, and, optionally, help you to detect grammar mistakes and plagiarism. To check word count, simply place your cursor into the text box above and start typing. You'll see the number of characters and words increase or decrease as you type, delete, and edit them. You can also copy and paste text from another program over into the online editor above. '''\n",
        "\n",
        "url = 'https://raw.githubusercontent.com/RobertJGabriel/Google-profanity-words/master/list.txt'\n",
        "page = requests.get(url)\n",
        "#print(page.text)\n",
        "\n",
        "swear_words = page.text.split()\n",
        "#print(swear_words)\n",
        "\n",
        "my_para_words = my_para.split()\n",
        "\n",
        "for words in my_para_words:\n",
        "  if words in swear_words:\n",
        "    print(words)"
      ],
      "execution_count": 46,
      "outputs": [
        {
          "output_type": "stream",
          "text": [
            "assholes\n",
            "nigga\n"
          ],
          "name": "stdout"
        }
      ]
    },
    {
      "cell_type": "markdown",
      "metadata": {
        "id": "sp4EOPf0t4XY"
      },
      "source": [
        "4)  Using reduce functions:\n",
        "    a) add only even numbers in a list\n",
        "  \n",
        "\n"
      ]
    },
    {
      "cell_type": "code",
      "metadata": {
        "id": "Eq_svhYKuFz0",
        "outputId": "af0d387e-1a34-4043-f9f1-80b14707db45",
        "colab": {
          "base_uri": "https://localhost:8080/"
        }
      },
      "source": [
        "from functools import reduce\n",
        "\n",
        "num_list = list(range(10))\n",
        "print(num_list)\n",
        "\n",
        "def add_even_num(num1, num2):\n",
        "  if num1 % 2 == 0:\n",
        "    num_even1 = num1\n",
        "  else:\n",
        "    num_even1 = 0\n",
        "\n",
        "  if num2 % 2 == 0:\n",
        "    num_even2 = num2\n",
        "  else:\n",
        "    num_even2 = 0\n",
        "\n",
        "  return num_even1 + num_even2\n",
        "\n",
        "result_a = reduce(add_even_num, num_list)\n",
        "print(result_a)"
      ],
      "execution_count": 64,
      "outputs": [
        {
          "output_type": "stream",
          "text": [
            "[0, 1, 2, 3, 4, 5, 6, 7, 8, 9]\n",
            "20\n"
          ],
          "name": "stdout"
        }
      ]
    },
    {
      "cell_type": "markdown",
      "metadata": {
        "id": "JH-nOSlM2Iq4"
      },
      "source": [
        "4-b) find the biggest character in a string (printable ascii characters)"
      ]
    },
    {
      "cell_type": "code",
      "metadata": {
        "id": "9VtjKMp42IIw",
        "outputId": "499ec6fa-2c18-4ef7-a3f1-117e2de84997",
        "colab": {
          "base_uri": "https://localhost:8080/"
        }
      },
      "source": [
        "samp_string = 'ifrhiawlehfaksyfjfpawheuwf'\n",
        "samp_list = []\n",
        "for chars in samp_string:\n",
        "  samp_list.append(chars)\n",
        "print(samp_list)\n",
        "\n",
        "def big_char(char1, char2):\n",
        "  return char1 if char1 > char2 else char2\n",
        "\n",
        "result_b = reduce(big_char, samp_list)\n",
        "print(result_b)"
      ],
      "execution_count": 62,
      "outputs": [
        {
          "output_type": "stream",
          "text": [
            "['i', 'f', 'r', 'h', 'i', 'a', 'w', 'l', 'e', 'h', 'f', 'a', 'k', 's', 'y', 'f', 'j', 'f', 'p', 'a', 'w', 'h', 'e', 'u', 'w', 'f']\n",
            "y\n"
          ],
          "name": "stdout"
        }
      ]
    },
    {
      "cell_type": "markdown",
      "metadata": {
        "id": "ysHSVs8p3iGO"
      },
      "source": [
        "4-c) adds every 3rd number in a list"
      ]
    },
    {
      "cell_type": "code",
      "metadata": {
        "id": "1gGu1FNW3kmN",
        "outputId": "c4af50af-9d06-4922-c476-36dabca5ceee",
        "colab": {
          "base_uri": "https://localhost:8080/"
        }
      },
      "source": [
        "from functools import reduce\n",
        "\n",
        "num_list = list(range(10))\n",
        "print(num_list)\n",
        "\n",
        "def add_third_num(num1, num2):\n",
        "  if num1 % 3 == 0:\n",
        "    num_even1 = num1\n",
        "  else:\n",
        "    num_even1 = 0\n",
        "\n",
        "  if num2 % 3 == 0:\n",
        "    num_even2 = num2\n",
        "  else:\n",
        "    num_even2 = 0\n",
        "\n",
        "  return num_even1 + num_even2\n",
        "\n",
        "result_c = reduce(add_third_num, num_list)\n",
        "print(result_c)"
      ],
      "execution_count": 68,
      "outputs": [
        {
          "output_type": "stream",
          "text": [
            "[0, 1, 2, 3, 4, 5, 6, 7, 8, 9]\n",
            "18\n"
          ],
          "name": "stdout"
        }
      ]
    }
  ]
}